{
 "cells": [
  {
   "cell_type": "markdown",
   "metadata": {},
   "source": [
    "# Desafio Módulo 1: Bootcamp Analista de Machine Learning - IGTI\n",
    "__Participante:__ Hernane Braga Pereira\n",
    "\n",
    "__Enunciado:__\n",
    "\n",
    "Neste desafio serão abordados todos os conceitos apresentados durante a disciplina Fundamentos de Machine Learning (FAM). Para este desafio será utilizada uma versão modificada do dataset “Bike Sharing” disponível no [UCI Machine Learning Repository](https://archive.ics.uci.edu/ml/datasets/Bike+Sharing+Dataset). Esse dataset contém um conjunto de informações sobre o compartilhamento de bicicletas. Existem informações sobre as condições climáticas e dados sobre a locação das bicicletas."
   ]
  },
  {
   "cell_type": "markdown",
   "metadata": {},
   "source": [
    "## Carregando bibliotecas e dataset"
   ]
  },
  {
   "cell_type": "code",
   "execution_count": 2,
   "metadata": {},
   "outputs": [],
   "source": [
    "import pandas as pd\n",
    "import numpy as np\n",
    "import seaborn as sns\n",
    "import sklearn as sk\n",
    "\n",
    "import matplotlib.pyplot as plt\n",
    "\n",
    "from sklearn.linear_model import LinearRegression\n",
    "from sklearn.metrics import r2_score #método para o cálculo do R2 (coeficiente de determinação)\n",
    "from sklearn.tree import DecisionTreeRegressor  \n"
   ]
  },
  {
   "cell_type": "code",
   "execution_count": 2,
   "metadata": {},
   "outputs": [],
   "source": [
    "# Funcoes para auxiliar na analise de dataset\n",
    "from IPython.display import display\n",
    "\n",
    "def missing_data(df):    \n",
    "    missing_data = pd.DataFrame({'Tipo': df.dtypes,'Dados faltantes (%)': df.isna().sum() / df.shape[0]})\n",
    "    return missing_data\n",
    "\n",
    "def sumary_df(df):\n",
    "    print(\"Informações básicas do dataset\")\n",
    "    print(\"\\nFormato:\", df.shape)\n",
    "    display(df.head(5))\n",
    "    \n",
    "    print(\"\\nTipos de dados:\")\n",
    "    display(df.info())\n",
    "\n",
    "    print(\"\\nPercentual de dados faltantes:\")\n",
    "    display(missing_data(df).T)\n",
    "\n",
    "    print(\"\\nEstatísticas das features:\")\n",
    "    display(df.describe())\n",
    "    \n",
    "# Funcao para plotar matiz de correlacao\n",
    "def plot_mtx_corr(df, var, target, q_size):\n",
    "    corrmat = df.loc[:, var].corr()\n",
    "    k = len(var)\n",
    "    cols = corrmat.nlargest(k, target)[target].index\n",
    "\n",
    "    fig, ax = plt.subplots(figsize=(q_size, q_size))\n",
    "    sns.set(font_scale=1)\n",
    "    \n",
    "    cm = np.corrcoef(df[cols].values.T)\n",
    "    hm = sns.heatmap(cm, cbar=True, annot=True, square=True, fmt='.2f', annot_kws={'size': 10}, \n",
    "                     yticklabels=cols.values, xticklabels=cols.values, cbar_kws={\"shrink\": .6})\n",
    "\n",
    "\n",
    "    fig.tight_layout()\n",
    "    plt.show()"
   ]
  },
  {
   "cell_type": "code",
   "execution_count": 3,
   "metadata": {},
   "outputs": [
    {
     "name": "stdout",
     "output_type": "stream",
     "text": [
      "Informações básicas do dataset\n",
      "\n",
      "Formato: (17379, 17)\n"
     ]
    },
    {
     "data": {
      "text/html": [
       "<div>\n",
       "<style scoped>\n",
       "    .dataframe tbody tr th:only-of-type {\n",
       "        vertical-align: middle;\n",
       "    }\n",
       "\n",
       "    .dataframe tbody tr th {\n",
       "        vertical-align: top;\n",
       "    }\n",
       "\n",
       "    .dataframe thead th {\n",
       "        text-align: right;\n",
       "    }\n",
       "</style>\n",
       "<table border=\"1\" class=\"dataframe\">\n",
       "  <thead>\n",
       "    <tr style=\"text-align: right;\">\n",
       "      <th></th>\n",
       "      <th>instant</th>\n",
       "      <th>dteday</th>\n",
       "      <th>season</th>\n",
       "      <th>yr</th>\n",
       "      <th>mnth</th>\n",
       "      <th>hr</th>\n",
       "      <th>holiday</th>\n",
       "      <th>weekday</th>\n",
       "      <th>workingday</th>\n",
       "      <th>weathersit</th>\n",
       "      <th>temp</th>\n",
       "      <th>atemp</th>\n",
       "      <th>hum</th>\n",
       "      <th>windspeed</th>\n",
       "      <th>casual</th>\n",
       "      <th>registered</th>\n",
       "      <th>cnt</th>\n",
       "    </tr>\n",
       "  </thead>\n",
       "  <tbody>\n",
       "    <tr>\n",
       "      <th>0</th>\n",
       "      <td>1.0</td>\n",
       "      <td>NaN</td>\n",
       "      <td>1.0</td>\n",
       "      <td>0.0</td>\n",
       "      <td>1.0</td>\n",
       "      <td>0.0</td>\n",
       "      <td>0.0</td>\n",
       "      <td>6.0</td>\n",
       "      <td>0.0</td>\n",
       "      <td>1.0</td>\n",
       "      <td>NaN</td>\n",
       "      <td>0.2879</td>\n",
       "      <td>0.81</td>\n",
       "      <td>0.0</td>\n",
       "      <td>3.0</td>\n",
       "      <td>13.0</td>\n",
       "      <td>16.0</td>\n",
       "    </tr>\n",
       "    <tr>\n",
       "      <th>1</th>\n",
       "      <td>2.0</td>\n",
       "      <td>2011-01-01</td>\n",
       "      <td>1.0</td>\n",
       "      <td>0.0</td>\n",
       "      <td>1.0</td>\n",
       "      <td>1.0</td>\n",
       "      <td>0.0</td>\n",
       "      <td>6.0</td>\n",
       "      <td>0.0</td>\n",
       "      <td>NaN</td>\n",
       "      <td>0.22</td>\n",
       "      <td>0.2727</td>\n",
       "      <td>0.80</td>\n",
       "      <td>0.0</td>\n",
       "      <td>8.0</td>\n",
       "      <td>32.0</td>\n",
       "      <td>40.0</td>\n",
       "    </tr>\n",
       "    <tr>\n",
       "      <th>2</th>\n",
       "      <td>3.0</td>\n",
       "      <td>2011-01-01</td>\n",
       "      <td>1.0</td>\n",
       "      <td>0.0</td>\n",
       "      <td>1.0</td>\n",
       "      <td>2.0</td>\n",
       "      <td>0.0</td>\n",
       "      <td>6.0</td>\n",
       "      <td>0.0</td>\n",
       "      <td>1.0</td>\n",
       "      <td>0.22</td>\n",
       "      <td>0.2727</td>\n",
       "      <td>0.80</td>\n",
       "      <td>0.0</td>\n",
       "      <td>5.0</td>\n",
       "      <td>27.0</td>\n",
       "      <td>32.0</td>\n",
       "    </tr>\n",
       "    <tr>\n",
       "      <th>3</th>\n",
       "      <td>4.0</td>\n",
       "      <td>2011-01-01</td>\n",
       "      <td>1.0</td>\n",
       "      <td>0.0</td>\n",
       "      <td>1.0</td>\n",
       "      <td>3.0</td>\n",
       "      <td>0.0</td>\n",
       "      <td>6.0</td>\n",
       "      <td>0.0</td>\n",
       "      <td>1.0</td>\n",
       "      <td>0.24</td>\n",
       "      <td>0.2879</td>\n",
       "      <td>0.75</td>\n",
       "      <td>0.0</td>\n",
       "      <td>3.0</td>\n",
       "      <td>10.0</td>\n",
       "      <td>13.0</td>\n",
       "    </tr>\n",
       "    <tr>\n",
       "      <th>4</th>\n",
       "      <td>5.0</td>\n",
       "      <td>2011-01-01</td>\n",
       "      <td>1.0</td>\n",
       "      <td>0.0</td>\n",
       "      <td>1.0</td>\n",
       "      <td>4.0</td>\n",
       "      <td>0.0</td>\n",
       "      <td>6.0</td>\n",
       "      <td>NaN</td>\n",
       "      <td>1.0</td>\n",
       "      <td>0.24</td>\n",
       "      <td>0.2879</td>\n",
       "      <td>0.75</td>\n",
       "      <td>0.0</td>\n",
       "      <td>0.0</td>\n",
       "      <td>1.0</td>\n",
       "      <td>1.0</td>\n",
       "    </tr>\n",
       "  </tbody>\n",
       "</table>\n",
       "</div>"
      ],
      "text/plain": [
       "   instant      dteday  season   yr  mnth   hr  holiday  weekday  workingday  \\\n",
       "0      1.0         NaN     1.0  0.0   1.0  0.0      0.0      6.0         0.0   \n",
       "1      2.0  2011-01-01     1.0  0.0   1.0  1.0      0.0      6.0         0.0   \n",
       "2      3.0  2011-01-01     1.0  0.0   1.0  2.0      0.0      6.0         0.0   \n",
       "3      4.0  2011-01-01     1.0  0.0   1.0  3.0      0.0      6.0         0.0   \n",
       "4      5.0  2011-01-01     1.0  0.0   1.0  4.0      0.0      6.0         NaN   \n",
       "\n",
       "   weathersit  temp   atemp   hum  windspeed  casual  registered   cnt  \n",
       "0         1.0   NaN  0.2879  0.81        0.0     3.0        13.0  16.0  \n",
       "1         NaN  0.22  0.2727  0.80        0.0     8.0        32.0  40.0  \n",
       "2         1.0  0.22  0.2727  0.80        0.0     5.0        27.0  32.0  \n",
       "3         1.0  0.24  0.2879  0.75        0.0     3.0        10.0  13.0  \n",
       "4         1.0  0.24  0.2879  0.75        0.0     0.0         1.0   1.0  "
      ]
     },
     "metadata": {},
     "output_type": "display_data"
    },
    {
     "name": "stdout",
     "output_type": "stream",
     "text": [
      "\n",
      "Tipos de dados:\n",
      "<class 'pandas.core.frame.DataFrame'>\n",
      "RangeIndex: 17379 entries, 0 to 17378\n",
      "Data columns (total 17 columns):\n",
      " #   Column      Non-Null Count  Dtype  \n",
      "---  ------      --------------  -----  \n",
      " 0   instant     15641 non-null  float64\n",
      " 1   dteday      15641 non-null  object \n",
      " 2   season      15641 non-null  float64\n",
      " 3   yr          15641 non-null  float64\n",
      " 4   mnth        15641 non-null  float64\n",
      " 5   hr          15641 non-null  float64\n",
      " 6   holiday     15641 non-null  float64\n",
      " 7   weekday     15641 non-null  float64\n",
      " 8   workingday  15641 non-null  float64\n",
      " 9   weathersit  15641 non-null  float64\n",
      " 10  temp        15641 non-null  float64\n",
      " 11  atemp       15641 non-null  float64\n",
      " 12  hum         15641 non-null  float64\n",
      " 13  windspeed   15641 non-null  float64\n",
      " 14  casual      15641 non-null  float64\n",
      " 15  registered  15641 non-null  float64\n",
      " 16  cnt         15641 non-null  float64\n",
      "dtypes: float64(16), object(1)\n",
      "memory usage: 2.3+ MB\n"
     ]
    },
    {
     "data": {
      "text/plain": [
       "None"
      ]
     },
     "metadata": {},
     "output_type": "display_data"
    },
    {
     "name": "stdout",
     "output_type": "stream",
     "text": [
      "\n",
      "Percentual de dados faltantes:\n"
     ]
    },
    {
     "data": {
      "text/html": [
       "<div>\n",
       "<style scoped>\n",
       "    .dataframe tbody tr th:only-of-type {\n",
       "        vertical-align: middle;\n",
       "    }\n",
       "\n",
       "    .dataframe tbody tr th {\n",
       "        vertical-align: top;\n",
       "    }\n",
       "\n",
       "    .dataframe thead th {\n",
       "        text-align: right;\n",
       "    }\n",
       "</style>\n",
       "<table border=\"1\" class=\"dataframe\">\n",
       "  <thead>\n",
       "    <tr style=\"text-align: right;\">\n",
       "      <th></th>\n",
       "      <th>instant</th>\n",
       "      <th>dteday</th>\n",
       "      <th>season</th>\n",
       "      <th>yr</th>\n",
       "      <th>mnth</th>\n",
       "      <th>hr</th>\n",
       "      <th>holiday</th>\n",
       "      <th>weekday</th>\n",
       "      <th>workingday</th>\n",
       "      <th>weathersit</th>\n",
       "      <th>temp</th>\n",
       "      <th>atemp</th>\n",
       "      <th>hum</th>\n",
       "      <th>windspeed</th>\n",
       "      <th>casual</th>\n",
       "      <th>registered</th>\n",
       "      <th>cnt</th>\n",
       "    </tr>\n",
       "  </thead>\n",
       "  <tbody>\n",
       "    <tr>\n",
       "      <th>Tipo</th>\n",
       "      <td>float64</td>\n",
       "      <td>object</td>\n",
       "      <td>float64</td>\n",
       "      <td>float64</td>\n",
       "      <td>float64</td>\n",
       "      <td>float64</td>\n",
       "      <td>float64</td>\n",
       "      <td>float64</td>\n",
       "      <td>float64</td>\n",
       "      <td>float64</td>\n",
       "      <td>float64</td>\n",
       "      <td>float64</td>\n",
       "      <td>float64</td>\n",
       "      <td>float64</td>\n",
       "      <td>float64</td>\n",
       "      <td>float64</td>\n",
       "      <td>float64</td>\n",
       "    </tr>\n",
       "    <tr>\n",
       "      <th>Dados faltantes (%)</th>\n",
       "      <td>0.100006</td>\n",
       "      <td>0.100006</td>\n",
       "      <td>0.100006</td>\n",
       "      <td>0.100006</td>\n",
       "      <td>0.100006</td>\n",
       "      <td>0.100006</td>\n",
       "      <td>0.100006</td>\n",
       "      <td>0.100006</td>\n",
       "      <td>0.100006</td>\n",
       "      <td>0.100006</td>\n",
       "      <td>0.100006</td>\n",
       "      <td>0.100006</td>\n",
       "      <td>0.100006</td>\n",
       "      <td>0.100006</td>\n",
       "      <td>0.100006</td>\n",
       "      <td>0.100006</td>\n",
       "      <td>0.100006</td>\n",
       "    </tr>\n",
       "  </tbody>\n",
       "</table>\n",
       "</div>"
      ],
      "text/plain": [
       "                      instant    dteday    season        yr      mnth  \\\n",
       "Tipo                  float64    object   float64   float64   float64   \n",
       "Dados faltantes (%)  0.100006  0.100006  0.100006  0.100006  0.100006   \n",
       "\n",
       "                           hr   holiday   weekday workingday weathersit  \\\n",
       "Tipo                  float64   float64   float64    float64    float64   \n",
       "Dados faltantes (%)  0.100006  0.100006  0.100006   0.100006   0.100006   \n",
       "\n",
       "                         temp     atemp       hum windspeed    casual  \\\n",
       "Tipo                  float64   float64   float64   float64   float64   \n",
       "Dados faltantes (%)  0.100006  0.100006  0.100006  0.100006  0.100006   \n",
       "\n",
       "                    registered       cnt  \n",
       "Tipo                   float64   float64  \n",
       "Dados faltantes (%)   0.100006  0.100006  "
      ]
     },
     "metadata": {},
     "output_type": "display_data"
    },
    {
     "name": "stdout",
     "output_type": "stream",
     "text": [
      "\n",
      "Estatísticas das features:\n"
     ]
    },
    {
     "data": {
      "text/html": [
       "<div>\n",
       "<style scoped>\n",
       "    .dataframe tbody tr th:only-of-type {\n",
       "        vertical-align: middle;\n",
       "    }\n",
       "\n",
       "    .dataframe tbody tr th {\n",
       "        vertical-align: top;\n",
       "    }\n",
       "\n",
       "    .dataframe thead th {\n",
       "        text-align: right;\n",
       "    }\n",
       "</style>\n",
       "<table border=\"1\" class=\"dataframe\">\n",
       "  <thead>\n",
       "    <tr style=\"text-align: right;\">\n",
       "      <th></th>\n",
       "      <th>instant</th>\n",
       "      <th>season</th>\n",
       "      <th>yr</th>\n",
       "      <th>mnth</th>\n",
       "      <th>hr</th>\n",
       "      <th>holiday</th>\n",
       "      <th>weekday</th>\n",
       "      <th>workingday</th>\n",
       "      <th>weathersit</th>\n",
       "      <th>temp</th>\n",
       "      <th>atemp</th>\n",
       "      <th>hum</th>\n",
       "      <th>windspeed</th>\n",
       "      <th>casual</th>\n",
       "      <th>registered</th>\n",
       "      <th>cnt</th>\n",
       "    </tr>\n",
       "  </thead>\n",
       "  <tbody>\n",
       "    <tr>\n",
       "      <th>count</th>\n",
       "      <td>15641.000000</td>\n",
       "      <td>15641.000000</td>\n",
       "      <td>15641.000000</td>\n",
       "      <td>15641.000000</td>\n",
       "      <td>15641.000000</td>\n",
       "      <td>15641.000000</td>\n",
       "      <td>15641.000000</td>\n",
       "      <td>15641.000000</td>\n",
       "      <td>15641.000000</td>\n",
       "      <td>15641.000000</td>\n",
       "      <td>15641.000000</td>\n",
       "      <td>15641.000000</td>\n",
       "      <td>15641.000000</td>\n",
       "      <td>15641.000000</td>\n",
       "      <td>15641.000000</td>\n",
       "      <td>15641.000000</td>\n",
       "    </tr>\n",
       "    <tr>\n",
       "      <th>mean</th>\n",
       "      <td>8676.513842</td>\n",
       "      <td>2.503420</td>\n",
       "      <td>0.501758</td>\n",
       "      <td>6.536091</td>\n",
       "      <td>11.521258</td>\n",
       "      <td>0.028131</td>\n",
       "      <td>2.999233</td>\n",
       "      <td>0.682118</td>\n",
       "      <td>1.423950</td>\n",
       "      <td>0.497062</td>\n",
       "      <td>0.476281</td>\n",
       "      <td>0.627579</td>\n",
       "      <td>0.189247</td>\n",
       "      <td>35.583147</td>\n",
       "      <td>153.644972</td>\n",
       "      <td>189.919826</td>\n",
       "    </tr>\n",
       "    <tr>\n",
       "      <th>std</th>\n",
       "      <td>5010.773755</td>\n",
       "      <td>1.107636</td>\n",
       "      <td>0.500013</td>\n",
       "      <td>3.441490</td>\n",
       "      <td>6.917606</td>\n",
       "      <td>0.165353</td>\n",
       "      <td>2.005300</td>\n",
       "      <td>0.465668</td>\n",
       "      <td>0.638982</td>\n",
       "      <td>0.192451</td>\n",
       "      <td>0.172520</td>\n",
       "      <td>0.192893</td>\n",
       "      <td>0.122188</td>\n",
       "      <td>49.226455</td>\n",
       "      <td>151.750573</td>\n",
       "      <td>181.972508</td>\n",
       "    </tr>\n",
       "    <tr>\n",
       "      <th>min</th>\n",
       "      <td>1.000000</td>\n",
       "      <td>1.000000</td>\n",
       "      <td>0.000000</td>\n",
       "      <td>1.000000</td>\n",
       "      <td>0.000000</td>\n",
       "      <td>0.000000</td>\n",
       "      <td>0.000000</td>\n",
       "      <td>0.000000</td>\n",
       "      <td>1.000000</td>\n",
       "      <td>0.020000</td>\n",
       "      <td>0.000000</td>\n",
       "      <td>0.000000</td>\n",
       "      <td>0.000000</td>\n",
       "      <td>0.000000</td>\n",
       "      <td>0.000000</td>\n",
       "      <td>1.000000</td>\n",
       "    </tr>\n",
       "    <tr>\n",
       "      <th>25%</th>\n",
       "      <td>4335.000000</td>\n",
       "      <td>2.000000</td>\n",
       "      <td>0.000000</td>\n",
       "      <td>4.000000</td>\n",
       "      <td>6.000000</td>\n",
       "      <td>0.000000</td>\n",
       "      <td>1.000000</td>\n",
       "      <td>0.000000</td>\n",
       "      <td>1.000000</td>\n",
       "      <td>0.340000</td>\n",
       "      <td>0.333300</td>\n",
       "      <td>0.480000</td>\n",
       "      <td>0.104500</td>\n",
       "      <td>4.000000</td>\n",
       "      <td>34.000000</td>\n",
       "      <td>40.000000</td>\n",
       "    </tr>\n",
       "    <tr>\n",
       "      <th>50%</th>\n",
       "      <td>8678.000000</td>\n",
       "      <td>3.000000</td>\n",
       "      <td>1.000000</td>\n",
       "      <td>7.000000</td>\n",
       "      <td>12.000000</td>\n",
       "      <td>0.000000</td>\n",
       "      <td>3.000000</td>\n",
       "      <td>1.000000</td>\n",
       "      <td>1.000000</td>\n",
       "      <td>0.500000</td>\n",
       "      <td>0.484800</td>\n",
       "      <td>0.630000</td>\n",
       "      <td>0.164200</td>\n",
       "      <td>17.000000</td>\n",
       "      <td>115.000000</td>\n",
       "      <td>142.000000</td>\n",
       "    </tr>\n",
       "    <tr>\n",
       "      <th>75%</th>\n",
       "      <td>13005.000000</td>\n",
       "      <td>3.000000</td>\n",
       "      <td>1.000000</td>\n",
       "      <td>10.000000</td>\n",
       "      <td>17.000000</td>\n",
       "      <td>0.000000</td>\n",
       "      <td>5.000000</td>\n",
       "      <td>1.000000</td>\n",
       "      <td>2.000000</td>\n",
       "      <td>0.660000</td>\n",
       "      <td>0.621200</td>\n",
       "      <td>0.780000</td>\n",
       "      <td>0.253700</td>\n",
       "      <td>48.000000</td>\n",
       "      <td>220.000000</td>\n",
       "      <td>281.000000</td>\n",
       "    </tr>\n",
       "    <tr>\n",
       "      <th>max</th>\n",
       "      <td>17377.000000</td>\n",
       "      <td>4.000000</td>\n",
       "      <td>1.000000</td>\n",
       "      <td>12.000000</td>\n",
       "      <td>23.000000</td>\n",
       "      <td>1.000000</td>\n",
       "      <td>6.000000</td>\n",
       "      <td>1.000000</td>\n",
       "      <td>4.000000</td>\n",
       "      <td>1.000000</td>\n",
       "      <td>1.000000</td>\n",
       "      <td>1.000000</td>\n",
       "      <td>0.850700</td>\n",
       "      <td>367.000000</td>\n",
       "      <td>886.000000</td>\n",
       "      <td>977.000000</td>\n",
       "    </tr>\n",
       "  </tbody>\n",
       "</table>\n",
       "</div>"
      ],
      "text/plain": [
       "            instant        season            yr          mnth            hr  \\\n",
       "count  15641.000000  15641.000000  15641.000000  15641.000000  15641.000000   \n",
       "mean    8676.513842      2.503420      0.501758      6.536091     11.521258   \n",
       "std     5010.773755      1.107636      0.500013      3.441490      6.917606   \n",
       "min        1.000000      1.000000      0.000000      1.000000      0.000000   \n",
       "25%     4335.000000      2.000000      0.000000      4.000000      6.000000   \n",
       "50%     8678.000000      3.000000      1.000000      7.000000     12.000000   \n",
       "75%    13005.000000      3.000000      1.000000     10.000000     17.000000   \n",
       "max    17377.000000      4.000000      1.000000     12.000000     23.000000   \n",
       "\n",
       "            holiday       weekday    workingday    weathersit          temp  \\\n",
       "count  15641.000000  15641.000000  15641.000000  15641.000000  15641.000000   \n",
       "mean       0.028131      2.999233      0.682118      1.423950      0.497062   \n",
       "std        0.165353      2.005300      0.465668      0.638982      0.192451   \n",
       "min        0.000000      0.000000      0.000000      1.000000      0.020000   \n",
       "25%        0.000000      1.000000      0.000000      1.000000      0.340000   \n",
       "50%        0.000000      3.000000      1.000000      1.000000      0.500000   \n",
       "75%        0.000000      5.000000      1.000000      2.000000      0.660000   \n",
       "max        1.000000      6.000000      1.000000      4.000000      1.000000   \n",
       "\n",
       "              atemp           hum     windspeed        casual    registered  \\\n",
       "count  15641.000000  15641.000000  15641.000000  15641.000000  15641.000000   \n",
       "mean       0.476281      0.627579      0.189247     35.583147    153.644972   \n",
       "std        0.172520      0.192893      0.122188     49.226455    151.750573   \n",
       "min        0.000000      0.000000      0.000000      0.000000      0.000000   \n",
       "25%        0.333300      0.480000      0.104500      4.000000     34.000000   \n",
       "50%        0.484800      0.630000      0.164200     17.000000    115.000000   \n",
       "75%        0.621200      0.780000      0.253700     48.000000    220.000000   \n",
       "max        1.000000      1.000000      0.850700    367.000000    886.000000   \n",
       "\n",
       "                cnt  \n",
       "count  15641.000000  \n",
       "mean     189.919826  \n",
       "std      181.972508  \n",
       "min        1.000000  \n",
       "25%       40.000000  \n",
       "50%      142.000000  \n",
       "75%      281.000000  \n",
       "max      977.000000  "
      ]
     },
     "metadata": {},
     "output_type": "display_data"
    }
   ],
   "source": [
    "df_original = pd.read_csv(\"comp_bikes_mod.csv\")\n",
    "sumary_df(df_original)"
   ]
  },
  {
   "cell_type": "code",
   "execution_count": 4,
   "metadata": {},
   "outputs": [],
   "source": [
    "# Novo dataframe sem valores nulos da coluna 'dteday'\n",
    "df_dteday = df_original.copy()\n",
    "df_dteday = df_dteday[df_dteday['dteday'].notna()]\n",
    "\n",
    "# Novo dataframe com a media das colunas hum, cnt e casual\n",
    "df_medias = df_original.copy()"
   ]
  },
  {
   "cell_type": "markdown",
   "metadata": {},
   "source": [
    "# Questão 1\n",
    "1. Preencha os valores nulos das colunas `hum`,`cnt` e `casual` com os valores médios.\n",
    "2. Utilize as variáveis `hum` e `casual` como independentes e a `cnt` como dependente. Aplique uma regressão linear. Qual o valor de R2? Utilize as entradas como teste."
   ]
  },
  {
   "cell_type": "code",
   "execution_count": 5,
   "metadata": {},
   "outputs": [],
   "source": [
    "# Adicionando o valor de medias\n",
    "df_medias['hum'].fillna(df_medias['hum'].mean(), inplace=True)\n",
    "df_medias['cnt'].fillna(df_medias['cnt'].mean(), inplace=True)\n",
    "df_medias['casual'].fillna(df_medias['casual'].mean(), inplace=True)\n",
    "\n",
    "\n",
    "x = df_medias[['hum', 'casual']].values  #variável independente \n",
    "Y = df_medias['cnt'].values #variável dependente "
   ]
  },
  {
   "cell_type": "code",
   "execution_count": 6,
   "metadata": {},
   "outputs": [
    {
     "name": "stdout",
     "output_type": "stream",
     "text": [
      "Coeficiente de Determinação (R2) usando regressão linear: 0.406\n",
      "Resposta questão 1: 0.40\n"
     ]
    }
   ],
   "source": [
    "# Realiza a construção do modelo de regressão\n",
    "reg = LinearRegression()\n",
    "\n",
    "regressao = reg.fit(x,Y) \n",
    "previsao = reg.predict(x)\n",
    "\n",
    "r2_linear = r2_score(Y, previsao)  #realiza o cálculo do R2\n",
    "\n",
    "print(\"Coeficiente de Determinação (R2) usando regressão linear:\", round(r2_linear, 3))\n",
    "print(\"Resposta questão 1: 0.40\")"
   ]
  },
  {
   "cell_type": "markdown",
   "metadata": {},
   "source": [
    "# Questão 2\n",
    "Considere o dataset após a retirada das linhas que continham valores nulos para a coluna `dteday`. Considerendo o boxplot da variável `windspeed` (velocidade do vento) é CORRETO afirmar?\n",
    "\n",
    "- Existem possíveis outliers, pois existem marcações (pontos) foras dos limites do boxplot.\n",
    "- Existem possíveis outliers, pois não existem marcações (pontos) foras dos limites do boxplot.\n",
    "- Não existem possíveis outliers, pois não existem marcações (pontos) foras dos limites do boxplot.\n",
    "- Não existem possíveis outliers, pois existem marcações (pontos) foras dos limites do boxplot.\n",
    "\n",
    "__Resposta questão 2:__ Existem possíveis outliers, pois existem marcações (pontos) foras dos limites do boxplot."
   ]
  },
  {
   "cell_type": "code",
   "execution_count": 7,
   "metadata": {},
   "outputs": [
    {
     "data": {
      "image/png": "[encoded data removed]",
      "text/plain": [
       "<Figure size 432x288 with 1 Axes>"
      ]
     },
     "metadata": {
      "needs_background": "light"
     },
     "output_type": "display_data"
    }
   ],
   "source": [
    "plt.boxplot(df_dteday['windspeed'].dropna())\n",
    "plt.title(\"Boxplot coluna windspeed\")\n",
    "plt.show()"
   ]
  },
  {
   "cell_type": "markdown",
   "metadata": {},
   "source": [
    "# Questão 3\n",
    "No dataset utilizado para o desafio, quantas instâncias e atributos existem, respectivamente?"
   ]
  },
  {
   "cell_type": "code",
   "execution_count": 8,
   "metadata": {},
   "outputs": [
    {
     "name": "stdout",
     "output_type": "stream",
     "text": [
      "Resposta questão 3: (17379, 17)\n"
     ]
    }
   ],
   "source": [
    "print(\"Resposta questão 3:\", df_original.shape)"
   ]
  },
  {
   "cell_type": "markdown",
   "metadata": {},
   "source": [
    "# Questão 4\n",
    "Com base na árvore de decisão é CORRETO afirmar:\n",
    "\n",
    "- Pode ser utilizada para classificação e regressão.\n",
    "- Não é possível encontrar os limites de separação entre os conjuntos de dados a partir de uma classificação realizada através da árvore de decisão.\n",
    "- A análise de regressão com a árvore de decisão só pode ser realizada com valores categóricos.\n",
    "- Árvore de Decisão é utilizada apenas para a classificação de dados contínuos.\n",
    "\n",
    "__Resposta:__ Pode ser utilizada para classificação e regressão."
   ]
  },
  {
   "cell_type": "markdown",
   "metadata": {},
   "source": [
    "# Questão 5\n",
    "Considere o dataset após a retirada das linhas que continham valores nulos para a coluna `dteday`. Selecione as colunas `season`, `temp`, `atemp`, `hum`, `windspeed`. Plot a matriz de correlação. Sobre as variáveis `hum` e `cnt` é CORRETO afirmar:\n",
    "\n",
    "- Possuem baixa correlação linear positiva.\n",
    "- Possuem alta correlação linear positiva.\n",
    "- Possuem alta correlação linear negativa.\n",
    "- Possuem baixa correlação linear negativa.\n",
    "\n"
   ]
  },
  {
   "cell_type": "code",
   "execution_count": 9,
   "metadata": {},
   "outputs": [
    {
     "data": {
      "image/png": "[encoded data removed]",
      "text/plain": [
       "<Figure size 576x576 with 2 Axes>"
      ]
     },
     "metadata": {
      "needs_background": "light"
     },
     "output_type": "display_data"
    }
   ],
   "source": [
    "columns = ['season', 'temp', 'atemp', 'hum', 'windspeed','cnt']\n",
    "plot_mtx_corr(df_dteday.dropna(), columns, 'hum', 8)"
   ]
  },
  {
   "cell_type": "markdown",
   "metadata": {},
   "source": [
    "__Resposta questão 5:__ Possuem baixa correlação linear negativa."
   ]
  },
  {
   "cell_type": "markdown",
   "metadata": {},
   "source": [
    "# Questão 6\n",
    "Qual é a proporção (em %) de valores nulos existente na coluna `temp` (temperatura ambiente normalizada)?"
   ]
  },
  {
   "cell_type": "code",
   "execution_count": 10,
   "metadata": {},
   "outputs": [
    {
     "name": "stdout",
     "output_type": "stream",
     "text": [
      "Resposta questão 6: 10.0 %\n"
     ]
    }
   ],
   "source": [
    "percentual = (df_original['temp'].isna().sum()/len(df_original['temp']))*100\n",
    "print(\"Resposta questão 6:\", round(percentual, 0), \"%\")"
   ]
  },
  {
   "cell_type": "markdown",
   "metadata": {},
   "source": [
    "# Questão 7\n",
    "Comparando os valores de R2 encontrado com a regressão linear e com a árvore de decisão, é CORRETO afirmar:\n",
    "- Os valores encontrados pela árvore de decisão como regressor e a regressão linear são próximos.\n",
    "- valor encontrado pela árvore de decisão foi negativo.\n",
    "- valor obtido pela árvore de decisão como regressor apresenta maior R2\n",
    "- O valor encontrado pela regressão linear é superior ao encontrado pela árvore de decisão.\n",
    "\n",
    "__Resposta:__  valor obtido pela árvore de decisão como regressor apresenta maior R2"
   ]
  },
  {
   "cell_type": "markdown",
   "metadata": {},
   "source": [
    "# Questão 8\n",
    "Utilize os mesmos dados da questão anterior (`hum` e `casual` como variáveis independentes e `cnt` como variavel dependente). Aplique a árvore de decisão como regressão. Qual é o valor aproximado de R2? Utilize as entradas como teste e valores \"default\"."
   ]
  },
  {
   "cell_type": "code",
   "execution_count": 11,
   "metadata": {},
   "outputs": [
    {
     "name": "stdout",
     "output_type": "stream",
     "text": [
      "Coeficiente de Determinação (R2) usando árvore de decisão: 0.697\n",
      "Resposta questão 8: 0.70\n"
     ]
    }
   ],
   "source": [
    "x = df_medias[['hum', 'casual']].values  #variável independente \n",
    "Y = df_medias['cnt'].values #variável dependente \n",
    "\n",
    "arvore_regressora = DecisionTreeRegressor() \n",
    "arvore_regressora.fit(x, Y) \n",
    "\n",
    "\n",
    "#realiza a previsão\n",
    "previsao_arvore = arvore_regressora.predict(x)\n",
    "\n",
    "r2_arvore = r2_score(Y, previsao_arvore)  #realiza o cálculo do R2\n",
    "\n",
    "print(\"Coeficiente de Determinação (R2) usando árvore de decisão:\", round(r2_arvore, 3))\n",
    "print(\"Resposta questão 8: 0.70\")"
   ]
  },
  {
   "cell_type": "markdown",
   "metadata": {},
   "source": [
    "# Questão 9\n",
    "Após retirar as linhas que contém valores nulos para a coluna `dteday`, passamos a contar com quantas instancias e atributos, respectivamente?"
   ]
  },
  {
   "cell_type": "code",
   "execution_count": 12,
   "metadata": {},
   "outputs": [
    {
     "name": "stdout",
     "output_type": "stream",
     "text": [
      "Resposta questão 9:  (15641, 17)\n"
     ]
    }
   ],
   "source": [
    "print(\"Resposta questão 9: \", df_dteday.shape)"
   ]
  },
  {
   "cell_type": "markdown",
   "metadata": {},
   "source": [
    "# Questão 10\n",
    "Considere o dataset após a retirada das linhas que continham valores nulos para a coluna `dteday`. Qual é o desvio padrão para os dados da coluna `windspeed` (velocidade do vento normalizada)?"
   ]
  },
  {
   "cell_type": "code",
   "execution_count": 13,
   "metadata": {},
   "outputs": [
    {
     "name": "stdout",
     "output_type": "stream",
     "text": [
      "Questão 10: 0.122\n"
     ]
    }
   ],
   "source": [
    "print(\"Questão 10:\", round(df_dteday['windspeed'].std(),3 ))"
   ]
  },
  {
   "cell_type": "markdown",
   "metadata": {},
   "source": [
    "# Questão 11\n",
    "Considere o dataset após a retirada das linhas que continham valores nulos para a coluna `dteday`. Qual é o valor médio para os dados da coluna `temp` (temperatura ambiente normalizada)?"
   ]
  },
  {
   "cell_type": "code",
   "execution_count": 14,
   "metadata": {},
   "outputs": [
    {
     "name": "stdout",
     "output_type": "stream",
     "text": [
      "Questão 11: 0.497\n"
     ]
    }
   ],
   "source": [
    "print(\"Questão 11:\", round(df_dteday['temp'].mean(),3 ))"
   ]
  },
  {
   "cell_type": "markdown",
   "metadata": {},
   "source": [
    "# Questão 12\n",
    "Considere o dataset após a retirada das linhas que continham valores nulos para a coluna `dteday`. Transforme a coluna `season` em valores categóricos. Quantas categorias diferentes existem?"
   ]
  },
  {
   "cell_type": "code",
   "execution_count": 15,
   "metadata": {},
   "outputs": [
    {
     "name": "stdout",
     "output_type": "stream",
     "text": [
      "Tipos de dados únicos na coluna 'season': [ 1. nan  2.  3.  4.]\n",
      "Dados categorizados:\n"
     ]
    },
    {
     "data": {
      "text/html": [
       "<div>\n",
       "<style scoped>\n",
       "    .dataframe tbody tr th:only-of-type {\n",
       "        vertical-align: middle;\n",
       "    }\n",
       "\n",
       "    .dataframe tbody tr th {\n",
       "        vertical-align: top;\n",
       "    }\n",
       "\n",
       "    .dataframe thead th {\n",
       "        text-align: right;\n",
       "    }\n",
       "</style>\n",
       "<table border=\"1\" class=\"dataframe\">\n",
       "  <thead>\n",
       "    <tr style=\"text-align: right;\">\n",
       "      <th></th>\n",
       "      <th>season_1.0</th>\n",
       "      <th>season_2.0</th>\n",
       "      <th>season_3.0</th>\n",
       "      <th>season_4.0</th>\n",
       "    </tr>\n",
       "  </thead>\n",
       "  <tbody>\n",
       "    <tr>\n",
       "      <th>1</th>\n",
       "      <td>1</td>\n",
       "      <td>0</td>\n",
       "      <td>0</td>\n",
       "      <td>0</td>\n",
       "    </tr>\n",
       "    <tr>\n",
       "      <th>2</th>\n",
       "      <td>1</td>\n",
       "      <td>0</td>\n",
       "      <td>0</td>\n",
       "      <td>0</td>\n",
       "    </tr>\n",
       "    <tr>\n",
       "      <th>3</th>\n",
       "      <td>1</td>\n",
       "      <td>0</td>\n",
       "      <td>0</td>\n",
       "      <td>0</td>\n",
       "    </tr>\n",
       "  </tbody>\n",
       "</table>\n",
       "</div>"
      ],
      "text/plain": [
       "   season_1.0  season_2.0  season_3.0  season_4.0\n",
       "1           1           0           0           0\n",
       "2           1           0           0           0\n",
       "3           1           0           0           0"
      ]
     },
     "metadata": {},
     "output_type": "display_data"
    },
    {
     "name": "stdout",
     "output_type": "stream",
     "text": [
      "Resposta questão 12: 4\n"
     ]
    }
   ],
   "source": [
    "print(\"Tipos de dados únicos na coluna 'season':\", df_dteday['season'].unique())\n",
    "print(\"Dados categorizados:\")\n",
    "new_season =  pd.get_dummies(df_dteday['season'], prefix='season')\n",
    "display(new_season.head(3))\n",
    "print(\"Resposta questão 12: 4\")"
   ]
  },
  {
   "cell_type": "markdown",
   "metadata": {},
   "source": [
    "# Questão 13\n",
    "Quantos tipos diferentes de dados existem no dataset do desafio?"
   ]
  },
  {
   "cell_type": "code",
   "execution_count": 16,
   "metadata": {},
   "outputs": [
    {
     "name": "stdout",
     "output_type": "stream",
     "text": [
      "Resposta questão 13:\n",
      "2 tipos: object e float64\n"
     ]
    }
   ],
   "source": [
    "print(\"Resposta questão 13:\")\n",
    "print(\"2 tipos: object e float64\")"
   ]
  },
  {
   "cell_type": "markdown",
   "metadata": {},
   "source": [
    "# Questão 14\n",
    "Considere o dataset após a retirada das linhas que continham valores nulos para a coluna `dteday`. Transforme a coluna `dteday` no tipo \"datetime\". Qual é a última data presente no dataset ( YYYY-MM-DD)?"
   ]
  },
  {
   "cell_type": "code",
   "execution_count": 17,
   "metadata": {},
   "outputs": [
    {
     "name": "stdout",
     "output_type": "stream",
     "text": [
      "Resposta questão 14: 2012-12-31\n"
     ]
    }
   ],
   "source": [
    "df_dteday['df_dteday'] = pd.to_datetime(df_dteday['dteday'])\n",
    "time_line = df_dteday['dteday'].sort_values(ascending=False)\n",
    "time_line.reset_index(inplace=True, drop=True)\n",
    "\n",
    "print(\"Resposta questão 14:\", time_line[0])"
   ]
  },
  {
   "cell_type": "markdown",
   "metadata": {},
   "source": [
    "# Questão 15\n",
    "Comparando o SVM com a árvore de decisão é CORRETO afirmar:\n",
    "\n",
    "- Árvore de decisão encontra os hiperplanos de separação do mesmo modo que o SVM.\n",
    "- SVM e Árvore de Decisão só podem ser utilizados para modelos de classificação.\n",
    "- SVM encontra o hiperplano que gera a maior separação entre os dados.\n",
    "- Através da Árvore de Decisão não é possível encontrar os limiares de separação entre as classes.\n",
    "\n",
    "__Resposta:__ SVM encontra o hiperplano que gera a maior separação entre os dados."
   ]
  }
 ],
 "metadata": {
  "kernelspec": {
   "display_name": "Python 3",
   "language": "python",
   "name": "python3"
  },
  "language_info": {
   "codemirror_mode": {
    "name": "ipython",
    "version": 3
   },
   "file_extension": ".py",
   "mimetype": "text/x-python",
   "name": "python",
   "nbconvert_exporter": "python",
   "pygments_lexer": "ipython3",
   "version": "3.7.7"
  },
  "latex_envs": {
   "LaTeX_envs_menu_present": true,
   "autoclose": false,
   "autocomplete": true,
   "bibliofile": "biblio.bib",
   "cite_by": "apalike",
   "current_citInitial": 1,
   "eqLabelWithNumbers": true,
   "eqNumInitial": 1,
   "hotkeys": {
    "equation": "Ctrl-E",
    "itemize": "Ctrl-I"
   },
   "labels_anchors": false,
   "latex_user_defs": false,
   "report_style_numbering": false,
   "user_envs_cfg": false
  },
  "toc": {
   "base_numbering": 1,
   "nav_menu": {
    "height": "455px",
    "width": "296px"
   },
   "number_sections": true,
   "sideBar": true,
   "skip_h1_title": false,
   "title_cell": "Table of Contents",
   "title_sidebar": "Contents",
   "toc_cell": false,
   "toc_position": {
    "height": "calc(100% - 180px)",
    "left": "10px",
    "top": "150px",
    "width": "307.2px"
   },
   "toc_section_display": true,
   "toc_window_display": true
  }
 },
 "nbformat": 4,
 "nbformat_minor": 4
}
