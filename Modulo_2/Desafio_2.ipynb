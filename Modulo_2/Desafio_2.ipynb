{
 "cells": [
  {
   "cell_type": "markdown",
   "metadata": {
    "toc": true
   },
   "source": [
    "<h1>Sumário<span class=\"tocSkip\"></span></h1>\n",
    "<div class=\"toc\"><ul class=\"toc-item\"><li><span><a href=\"#Enunciado\" data-toc-modified-id=\"Enunciado-1\"><span class=\"toc-item-num\">1&nbsp;&nbsp;</span>Enunciado</a></span></li><li><span><a href=\"#Pergunta-1\" data-toc-modified-id=\"Pergunta-1-2\"><span class=\"toc-item-num\">2&nbsp;&nbsp;</span>Pergunta 1</a></span></li><li><span><a href=\"#Pergunta-2\" data-toc-modified-id=\"Pergunta-2-3\"><span class=\"toc-item-num\">3&nbsp;&nbsp;</span>Pergunta 2</a></span></li><li><span><a href=\"#Pergunta-3\" data-toc-modified-id=\"Pergunta-3-4\"><span class=\"toc-item-num\">4&nbsp;&nbsp;</span>Pergunta 3</a></span></li><li><span><a href=\"#Pergunta-4\" data-toc-modified-id=\"Pergunta-4-5\"><span class=\"toc-item-num\">5&nbsp;&nbsp;</span>Pergunta 4</a></span></li><li><span><a href=\"#Pergunta-5\" data-toc-modified-id=\"Pergunta-5-6\"><span class=\"toc-item-num\">6&nbsp;&nbsp;</span>Pergunta 5</a></span></li><li><span><a href=\"#Pergunta-6\" data-toc-modified-id=\"Pergunta-6-7\"><span class=\"toc-item-num\">7&nbsp;&nbsp;</span>Pergunta 6</a></span></li><li><span><a href=\"#Pergunta-7\" data-toc-modified-id=\"Pergunta-7-8\"><span class=\"toc-item-num\">8&nbsp;&nbsp;</span>Pergunta 7</a></span></li><li><span><a href=\"#Pergunta-8\" data-toc-modified-id=\"Pergunta-8-9\"><span class=\"toc-item-num\">9&nbsp;&nbsp;</span>Pergunta 8</a></span></li><li><span><a href=\"#Pergunta-9\" data-toc-modified-id=\"Pergunta-9-10\"><span class=\"toc-item-num\">10&nbsp;&nbsp;</span>Pergunta 9</a></span></li><li><span><a href=\"#Pergunta-10\" data-toc-modified-id=\"Pergunta-10-11\"><span class=\"toc-item-num\">11&nbsp;&nbsp;</span>Pergunta 10</a></span></li><li><span><a href=\"#Pergunta-11\" data-toc-modified-id=\"Pergunta-11-12\"><span class=\"toc-item-num\">12&nbsp;&nbsp;</span>Pergunta 11</a></span></li><li><span><a href=\"#Pergunta-12\" data-toc-modified-id=\"Pergunta-12-13\"><span class=\"toc-item-num\">13&nbsp;&nbsp;</span>Pergunta 12</a></span></li><li><span><a href=\"#Pergunta-13\" data-toc-modified-id=\"Pergunta-13-14\"><span class=\"toc-item-num\">14&nbsp;&nbsp;</span>Pergunta 13</a></span></li><li><span><a href=\"#Pergunta-14\" data-toc-modified-id=\"Pergunta-14-15\"><span class=\"toc-item-num\">15&nbsp;&nbsp;</span>Pergunta 14</a></span></li><li><span><a href=\"#Pergunta-15\" data-toc-modified-id=\"Pergunta-15-16\"><span class=\"toc-item-num\">16&nbsp;&nbsp;</span>Pergunta 15</a></span></li></ul></div>"
   ]
  },
  {
   "cell_type": "markdown",
   "metadata": {},
   "source": [
    "# Enunciado\n",
    "\n",
    "Neste desafio serão abordados todos os conceitos apresentados durante a disciplina Modelos Preditivos e Séries Temporais (MPT). Para este desafio será utilizada uma versão modificada do dataset “Wine Quality” disponível no UCI Machine Learning Repository (https://archive.ics.uci.edu/ml/datasets/wine). Esse dataset contém um conjunto de atributos (dados de sensores) sobre o processo de fabricação de vinhos (tinto e branco). Esses dados são utilizados para classificar, ao final do processo, a qualidade do vinho obtido. Existem informações como o teor alcoólico e nível de acidez. Para este desafio é necessário baixar o arquivo “winequality-red.data” presente no link abaixo:\n",
    "\n",
    "https://drive.google.com/open?id=13jSMzdwO3nZDr-n62--fO4jrE-oIG8cX"
   ]
  },
  {
   "cell_type": "code",
   "execution_count": 1,
   "metadata": {
    "hide_input": false
   },
   "outputs": [],
   "source": [
    "import pandas as pd"
   ]
  },
  {
   "cell_type": "code",
   "execution_count": 2,
   "metadata": {},
   "outputs": [],
   "source": [
    "df_original = pd.read_csv('winequality-red.csv', sep=';')\n",
    "df = df_original.copy()"
   ]
  },
  {
   "cell_type": "markdown",
   "metadata": {},
   "source": [
    "# Pergunta 1\n",
    "\n",
    "No dataset utilizado para o desafio, quantas instâncias e atributos existem, respectivamente?\n",
    "\n",
    "__Resposta:__ (1599, 12)"
   ]
  },
  {
   "cell_type": "code",
   "execution_count": 3,
   "metadata": {},
   "outputs": [
    {
     "data": {
      "text/plain": [
       "(1599, 12)"
      ]
     },
     "execution_count": 3,
     "metadata": {},
     "output_type": "execute_result"
    }
   ],
   "source": [
    "df_original.shape"
   ]
  },
  {
   "cell_type": "markdown",
   "metadata": {},
   "source": [
    "# Pergunta 2\n",
    "Quantos tipos diferentes de dados existem no dataset do desafio?\n",
    "\n",
    "__Resposta:__ 2"
   ]
  },
  {
   "cell_type": "code",
   "execution_count": 4,
   "metadata": {},
   "outputs": [
    {
     "data": {
      "text/plain": [
       "float64    11\n",
       "int64       1\n",
       "dtype: int64"
      ]
     },
     "execution_count": 4,
     "metadata": {},
     "output_type": "execute_result"
    }
   ],
   "source": [
    "df_original.dtypes.value_counts()"
   ]
  },
  {
   "cell_type": "markdown",
   "metadata": {},
   "source": [
    "# Pergunta 3\n",
    "Qual é a proporção (em %) de valores nulos existente na coluna \"residual sugar\" (resíduo de açucar)?\n",
    "\n",
    "__Resposta:__ 0%"
   ]
  },
  {
   "cell_type": "code",
   "execution_count": 5,
   "metadata": {},
   "outputs": [
    {
     "name": "stdout",
     "output_type": "stream",
     "text": [
      "Percentual de nulos: 0.0%\n"
     ]
    }
   ],
   "source": [
    "nulos = df_original['residual sugar'].isna().sum()\n",
    "perct = (nulos/len(df_original))*100\n",
    "print(\"Percentual de nulos: \" + str(perct) + \"%\")"
   ]
  },
  {
   "cell_type": "markdown",
   "metadata": {},
   "source": [
    "# Pergunta 4\n",
    "Qual é o desvio padrão para a variável \"fixed acidity\" ?\n",
    "\n",
    "__Resposta:__ 1.7"
   ]
  },
  {
   "cell_type": "code",
   "execution_count": 6,
   "metadata": {},
   "outputs": [
    {
     "data": {
      "text/plain": [
       "1.7410963181277006"
      ]
     },
     "execution_count": 6,
     "metadata": {},
     "output_type": "execute_result"
    }
   ],
   "source": [
    "df_original['fixed acidity'].std()"
   ]
  },
  {
   "cell_type": "markdown",
   "metadata": {},
   "source": [
    "# Pergunta 5\n",
    "Qual é a mediana para a variável \"residual sugar\"?\n",
    "\n",
    "__Resposta:__ 2.2"
   ]
  },
  {
   "cell_type": "code",
   "execution_count": 31,
   "metadata": {},
   "outputs": [
    {
     "data": {
      "text/plain": [
       "2.2"
      ]
     },
     "execution_count": 31,
     "metadata": {},
     "output_type": "execute_result"
    }
   ],
   "source": [
    "df_original['residual sugar'].median()"
   ]
  },
  {
   "cell_type": "markdown",
   "metadata": {},
   "source": [
    "# Pergunta 6\n",
    "Sobre o coeficiente de correlação de Pearson entre as variáveis \"fixed acidity\" e \"pH\" é CORRETO afirmar:\n",
    "\n",
    "__Resposta:__ Existe uma correlação negativa. Quanto maior o \"fixed acidity, menor é o \"pH\"."
   ]
  },
  {
   "cell_type": "code",
   "execution_count": 8,
   "metadata": {},
   "outputs": [
    {
     "data": {
      "text/html": [
       "<div>\n",
       "<style scoped>\n",
       "    .dataframe tbody tr th:only-of-type {\n",
       "        vertical-align: middle;\n",
       "    }\n",
       "\n",
       "    .dataframe tbody tr th {\n",
       "        vertical-align: top;\n",
       "    }\n",
       "\n",
       "    .dataframe thead th {\n",
       "        text-align: right;\n",
       "    }\n",
       "</style>\n",
       "<table border=\"1\" class=\"dataframe\">\n",
       "  <thead>\n",
       "    <tr style=\"text-align: right;\">\n",
       "      <th></th>\n",
       "      <th>fixed acidity</th>\n",
       "      <th>pH</th>\n",
       "    </tr>\n",
       "  </thead>\n",
       "  <tbody>\n",
       "    <tr>\n",
       "      <th>fixed acidity</th>\n",
       "      <td>1.000000</td>\n",
       "      <td>-0.682978</td>\n",
       "    </tr>\n",
       "    <tr>\n",
       "      <th>pH</th>\n",
       "      <td>-0.682978</td>\n",
       "      <td>1.000000</td>\n",
       "    </tr>\n",
       "  </tbody>\n",
       "</table>\n",
       "</div>"
      ],
      "text/plain": [
       "               fixed acidity        pH\n",
       "fixed acidity       1.000000 -0.682978\n",
       "pH                 -0.682978  1.000000"
      ]
     },
     "execution_count": 8,
     "metadata": {},
     "output_type": "execute_result"
    }
   ],
   "source": [
    "df_original.loc[:, ['fixed acidity', 'pH']].corr()"
   ]
  },
  {
   "cell_type": "markdown",
   "metadata": {},
   "source": [
    "# Pergunta 7\n",
    "Mesmo sendo reduzido, é CORRETO dizer sobre o coeficiente de correlação de Pearson entre as variáveis \"quality\" e \"alcohol\":\n",
    "\n",
    "__Resposta:__ Quanto maior o teor alcoolico (alcohol), maior é a qualidade do vinho (quality)."
   ]
  },
  {
   "cell_type": "code",
   "execution_count": 9,
   "metadata": {},
   "outputs": [
    {
     "data": {
      "text/html": [
       "<div>\n",
       "<style scoped>\n",
       "    .dataframe tbody tr th:only-of-type {\n",
       "        vertical-align: middle;\n",
       "    }\n",
       "\n",
       "    .dataframe tbody tr th {\n",
       "        vertical-align: top;\n",
       "    }\n",
       "\n",
       "    .dataframe thead th {\n",
       "        text-align: right;\n",
       "    }\n",
       "</style>\n",
       "<table border=\"1\" class=\"dataframe\">\n",
       "  <thead>\n",
       "    <tr style=\"text-align: right;\">\n",
       "      <th></th>\n",
       "      <th>quality</th>\n",
       "      <th>alcohol</th>\n",
       "    </tr>\n",
       "  </thead>\n",
       "  <tbody>\n",
       "    <tr>\n",
       "      <th>quality</th>\n",
       "      <td>1.000000</td>\n",
       "      <td>0.476166</td>\n",
       "    </tr>\n",
       "    <tr>\n",
       "      <th>alcohol</th>\n",
       "      <td>0.476166</td>\n",
       "      <td>1.000000</td>\n",
       "    </tr>\n",
       "  </tbody>\n",
       "</table>\n",
       "</div>"
      ],
      "text/plain": [
       "          quality   alcohol\n",
       "quality  1.000000  0.476166\n",
       "alcohol  0.476166  1.000000"
      ]
     },
     "execution_count": 9,
     "metadata": {},
     "output_type": "execute_result"
    }
   ],
   "source": [
    "df_original.loc[:, ['quality', 'alcohol']].corr()"
   ]
  },
  {
   "cell_type": "markdown",
   "metadata": {},
   "source": [
    "# Pergunta 8\n",
    "Quantas instâncias existem para a qualidade do vinho igual a 5?\n",
    "\n",
    "__Resposta:__ 681"
   ]
  },
  {
   "cell_type": "code",
   "execution_count": 10,
   "metadata": {},
   "outputs": [
    {
     "data": {
      "text/plain": [
       "5    681\n",
       "Name: quality, dtype: int64"
      ]
     },
     "execution_count": 10,
     "metadata": {},
     "output_type": "execute_result"
    }
   ],
   "source": [
    "qualidade_5 = df_original['quality'][df_original['quality'] == 5]\n",
    "qualidade_5.value_counts()"
   ]
  },
  {
   "cell_type": "markdown",
   "metadata": {},
   "source": [
    "# Pergunta 9\n",
    "Aplique o modelo de normalização MinMaxScaler com os valores \"default\" para os dados de entrada. Qual é o menor valor para a variável \"fixed acidity\"?\n",
    "\n",
    "__Resposta:__ 0"
   ]
  },
  {
   "cell_type": "code",
   "execution_count": 12,
   "metadata": {},
   "outputs": [
    {
     "data": {
      "text/plain": [
       "0.0"
      ]
     },
     "execution_count": 12,
     "metadata": {},
     "output_type": "execute_result"
    }
   ],
   "source": [
    "from sklearn.preprocessing import MinMaxScaler\n",
    "scaler = MinMaxScaler()\n",
    "X = scaler.fit_transform(df)\n",
    "X = pd.DataFrame(X, columns = df.columns)\n",
    "\n",
    "X['fixed acidity'].min()"
   ]
  },
  {
   "cell_type": "markdown",
   "metadata": {},
   "source": [
    "# Pergunta 10\n",
    "Após dividir o dataset utilizando o método train_test_split(entradas_normalizadas, saida, test_size=0.30, random_state=1). Qual foi a acurária para o KNN?\n",
    "\n",
    "__Resposta:__ 0.56"
   ]
  },
  {
   "cell_type": "code",
   "execution_count": 13,
   "metadata": {},
   "outputs": [],
   "source": [
    "from sklearn.model_selection import train_test_split\n",
    "X.drop(columns = ['quality'], inplace=True)\n",
    "y = df['quality']\n",
    "\n",
    "X_train, X_test, y_train, y_test = train_test_split(X, y, test_size=0.30, random_state=1)"
   ]
  },
  {
   "cell_type": "code",
   "execution_count": 14,
   "metadata": {},
   "outputs": [
    {
     "data": {
      "text/plain": [
       "0.56"
      ]
     },
     "execution_count": 14,
     "metadata": {},
     "output_type": "execute_result"
    }
   ],
   "source": [
    "from sklearn.neighbors import KNeighborsClassifier\n",
    "clf_KNN = KNeighborsClassifier(n_neighbors=5) \n",
    "clf_KNN.fit(X_train, y_train)\n",
    "acuracia = clf_KNN.score(X_test, y_test)\n",
    "\n",
    "round(acuracia, 2)"
   ]
  },
  {
   "cell_type": "markdown",
   "metadata": {},
   "source": [
    "# Pergunta 11\n",
    "Aplicando o algoritmo de árvore de decisão com os parâmetros definidos no enunciado do desafio e a divisão de treinamento e teste como mostrado, anteriormente. Qual é o valor da acurácia?\n",
    "\n",
    "__Resposta:__ 0.58"
   ]
  },
  {
   "cell_type": "code",
   "execution_count": 15,
   "metadata": {},
   "outputs": [
    {
     "data": {
      "text/plain": [
       "0.6"
      ]
     },
     "execution_count": 15,
     "metadata": {},
     "output_type": "execute_result"
    }
   ],
   "source": [
    "from sklearn.tree import DecisionTreeClassifier\n",
    "clf_arvore = DecisionTreeClassifier()\n",
    "clf_arvore.fit(X_train, y_train)\n",
    "acuracia = clf_arvore.score(X_test, y_test)\n",
    "\n",
    "round(acuracia, 2)"
   ]
  },
  {
   "cell_type": "markdown",
   "metadata": {},
   "source": [
    "# Pergunta 12\n",
    "Aplicando o algoritmo de floresta randomica com os mesmos parâmetros apresentados no enunciado e mesmos valores treinamento e teste, qual é o valor da acurácia?\n",
    "\n",
    "__Resposta:__ 0.68"
   ]
  },
  {
   "cell_type": "code",
   "execution_count": 16,
   "metadata": {},
   "outputs": [
    {
     "data": {
      "text/plain": [
       "0.68"
      ]
     },
     "execution_count": 16,
     "metadata": {},
     "output_type": "execute_result"
    }
   ],
   "source": [
    "from sklearn.ensemble import RandomForestClassifier\n",
    "clf_floresta = RandomForestClassifier(max_depth=10, random_state=1)\n",
    "clf_floresta.fit(X_train, y_train)\n",
    "acuracia = clf_floresta.score(X_test, y_test)\n",
    "\n",
    "round(acuracia, 2)"
   ]
  },
  {
   "cell_type": "markdown",
   "metadata": {},
   "source": [
    "# Pergunta 13\n",
    "Aplicando o algoritmo SVM para a classificação da qualidade dos vinhos com os mesmos valores anteriores para treinamento e teste, qual é o valor de acurácia obtido?\n",
    "\n",
    "__Resposta:__ 0.59"
   ]
  },
  {
   "cell_type": "code",
   "execution_count": 17,
   "metadata": {},
   "outputs": [
    {
     "data": {
      "text/plain": [
       "0.59"
      ]
     },
     "execution_count": 17,
     "metadata": {},
     "output_type": "execute_result"
    }
   ],
   "source": [
    "from sklearn.svm import SVC\n",
    "\n",
    "clf_svm = SVC(gamma='auto',kernel='rbf')\n",
    "clf_svm.fit(X_train, y_train)\n",
    "acuracia = clf_svm.score(X_test, y_test)\n",
    "\n",
    "round(acuracia, 2)"
   ]
  },
  {
   "cell_type": "markdown",
   "metadata": {},
   "source": [
    "# Pergunta 14\n",
    "Apicando a rede MLP como mostrado no enunciado e com os mesmos dados de treinamento e teste utilizados, qual é a acurácia do modelo?\n",
    "\n",
    "__Resposta:__ 0.60"
   ]
  },
  {
   "cell_type": "code",
   "execution_count": 18,
   "metadata": {},
   "outputs": [
    {
     "name": "stderr",
     "output_type": "stream",
     "text": [
      "C:\\Users\\herna\\Anaconda3\\envs\\tensorflow\\lib\\site-packages\\sklearn\\neural_network\\_multilayer_perceptron.py:571: ConvergenceWarning: Stochastic Optimizer: Maximum iterations (200) reached and the optimization hasn't converged yet.\n",
      "  % self.max_iter, ConvergenceWarning)\n"
     ]
    },
    {
     "data": {
      "text/plain": [
       "0.6"
      ]
     },
     "execution_count": 18,
     "metadata": {},
     "output_type": "execute_result"
    }
   ],
   "source": [
    "from sklearn.neural_network import MLPClassifier\n",
    "clf_mlp = MLPClassifier( alpha=1e-5, hidden_layer_sizes=(5, 5), random_state=1) \n",
    "clf_mlp.fit(X_train, y_train)\n",
    "\n",
    "acuracia = clf_mlp.score(X_test, y_test)\n",
    "round(acuracia, 2)"
   ]
  },
  {
   "cell_type": "markdown",
   "metadata": {},
   "source": [
    "# Pergunta 15\n",
    "Modifique o dataset para um sistema binário que considere vinhos com nota maior do que 5 (6, 7, 8) sejam bons e menores ou igual a 5 ruins (5, 4, 3). Aplique o modelo da floresta randômica. Qual a acurácia do modelo para esse novo dataset?\n",
    "\n",
    "__Reposta:__ 0.8"
   ]
  },
  {
   "cell_type": "code",
   "execution_count": 30,
   "metadata": {},
   "outputs": [
    {
     "data": {
      "text/plain": [
       "0.8"
      ]
     },
     "execution_count": 30,
     "metadata": {},
     "output_type": "execute_result"
    }
   ],
   "source": [
    "# Ajustando labels\n",
    "y_novo = (df['quality'] > 5).astype(int)\n",
    "\n",
    "X_train, X_test, y_train, y_test = train_test_split(X, y_novo, test_size=0.30, random_state=1)\n",
    "\n",
    "clf_floresta = RandomForestClassifier(max_depth=10, random_state=1)\n",
    "clf_floresta.fit(X_train, y_train)\n",
    "acuracia = clf_floresta.score(X_test, y_test)\n",
    "\n",
    "round(acuracia, 2)"
   ]
  }
 ],
 "metadata": {
  "kernelspec": {
   "display_name": "Python 3",
   "language": "python",
   "name": "python3"
  },
  "language_info": {
   "codemirror_mode": {
    "name": "ipython",
    "version": 3
   },
   "file_extension": ".py",
   "mimetype": "text/x-python",
   "name": "python",
   "nbconvert_exporter": "python",
   "pygments_lexer": "ipython3",
   "version": "3.7.7"
  },
  "latex_envs": {
   "LaTeX_envs_menu_present": true,
   "autoclose": false,
   "autocomplete": true,
   "bibliofile": "biblio.bib",
   "cite_by": "apalike",
   "current_citInitial": 1,
   "eqLabelWithNumbers": true,
   "eqNumInitial": 1,
   "hotkeys": {
    "equation": "Ctrl-E",
    "itemize": "Ctrl-I"
   },
   "labels_anchors": false,
   "latex_user_defs": false,
   "report_style_numbering": false,
   "user_envs_cfg": false
  },
  "toc": {
   "base_numbering": 1,
   "nav_menu": {},
   "number_sections": true,
   "sideBar": true,
   "skip_h1_title": false,
   "title_cell": "Sumário",
   "title_sidebar": "Sumário",
   "toc_cell": true,
   "toc_position": {
    "height": "calc(100% - 180px)",
    "left": "10px",
    "top": "150px",
    "width": "165px"
   },
   "toc_section_display": true,
   "toc_window_display": true
  }
 },
 "nbformat": 4,
 "nbformat_minor": 4
}
